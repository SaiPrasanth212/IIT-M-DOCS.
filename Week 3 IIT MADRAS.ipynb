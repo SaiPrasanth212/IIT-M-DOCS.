{
 "cells": [
  {
   "cell_type": "markdown",
   "id": "76b81de5",
   "metadata": {},
   "source": [
    "# While loop"
   ]
  },
  {
   "cell_type": "code",
   "execution_count": 6,
   "id": "58fe4857",
   "metadata": {},
   "outputs": [],
   "source": [
    "# While loop works like this:-\n",
    "\n",
    "#while(condition):\n",
    "#    write the operation to be performed\n",
    "#    write whatever we want here\n",
    "#    write whatever we want here"
   ]
  },
  {
   "cell_type": "code",
   "execution_count": 2,
   "id": "1d6bd924",
   "metadata": {},
   "outputs": [
    {
     "name": "stdout",
     "output_type": "stream",
     "text": [
      "In which year did India get independence?\n",
      "2020\n",
      "Come on, don't you know this being in India?\n",
      "Nothing much to worry about as you have another attempt!\n",
      "In which year did India get independence?\n",
      "1947\n",
      "You got it right this time.\n"
     ]
    }
   ],
   "source": [
    "# With the while loop we can execute a set of statements as\n",
    "# long as a condition is true !!\n",
    "\n",
    "# This would work as an example :-\n",
    "\n",
    "print(\"In which year did India get independence?\")\n",
    "year = int(input())\n",
    "\n",
    "if (year==1947):\n",
    "    print(\"Congratulations! You've given the right answer.\")\n",
    "else:\n",
    "    print(\"Come on, don't you know this being in India?\")\n",
    "    print(\"Nothing much to worry about as you have another attempt!\")\n",
    "    print(\"In which year did India get independence?\")\n",
    "    year = int(input())\n",
    "    \n",
    "    if (year==1947):\n",
    "        print(\"You got it right this time.\")\n",
    "    else:\n",
    "        print(\"Failed in second attempt too..\")\n",
    "\n",
    "# this code runs only for two attempts."
   ]
  },
  {
   "cell_type": "markdown",
   "id": "2e14aae5",
   "metadata": {},
   "source": [
    "### We can write a code that let's us attempt as many times as we want until we get right answer."
   ]
  },
  {
   "cell_type": "code",
   "execution_count": 3,
   "id": "6ddd476b",
   "metadata": {},
   "outputs": [
    {
     "name": "stdout",
     "output_type": "stream",
     "text": [
      "In which year did India get independence?\n",
      "1940\n",
      "You got this wrong.Enter once again.\n",
      "1947\n",
      "Wonderful you made it right\n"
     ]
    }
   ],
   "source": [
    "print(\"In which year did India get independence?\")\n",
    "year = int(input())\n",
    "\n",
    "# I would like to write a code,which lets the user attempt as many times\n",
    "# as he wants and ends only when it gets the right answer.\n",
    "\n",
    "while(year!= 1947):\n",
    "    print(\"You got this wrong.Enter once again.\")\n",
    "    year = int(input())\n",
    "    \n",
    "print(\"Wonderful you made it right\")"
   ]
  },
  {
   "cell_type": "markdown",
   "id": "b87f2715",
   "metadata": {},
   "source": [
    "### An example for while loop"
   ]
  },
  {
   "cell_type": "code",
   "execution_count": 5,
   "id": "1b4d49ea",
   "metadata": {},
   "outputs": [
    {
     "name": "stdout",
     "output_type": "stream",
     "text": [
      "1\n",
      "2\n",
      "3\n",
      "4\n",
      "5\n"
     ]
    }
   ],
   "source": [
    "i = 1\n",
    "while i < 6:\n",
    "  print(i)\n",
    "  i += 1\n",
    "# Note: Remember to increment i, else the loop will continue forever."
   ]
  },
  {
   "cell_type": "markdown",
   "id": "09eb3646",
   "metadata": {},
   "source": [
    "## Find the factorial using while loop"
   ]
  },
  {
   "cell_type": "code",
   "execution_count": 9,
   "id": "756509e9",
   "metadata": {},
   "outputs": [
    {
     "name": "stdout",
     "output_type": "stream",
     "text": [
      "Enter a number\n",
      "5\n",
      "120\n"
     ]
    }
   ],
   "source": [
    "print(\"Enter a number\")\n",
    "n = int(input())\n",
    "\n",
    "# if n = 5, then factorial of 5 would be 1*2*3*4*5\n",
    "i = 1\n",
    "answer = 1\n",
    "while (i<=n): # less than or equal to\n",
    "    answer = answer*i\n",
    "    i = i+1\n",
    "    \n",
    "print(answer)\n",
    "\n",
    "# i =1\n",
    "# answer = 1\n",
    "# n = 5\n",
    "# answer = 1\n",
    "# As we increment i by 1 at end of a loop, i has the value 2\n",
    "# i = 2\n",
    "# answer = 2\n",
    "# i = 3\n",
    "# answer = 6\n",
    "# i = 4\n",
    "# answer = 24\n",
    "# i = 5 \n",
    "# answer = 120\n",
    "# i = 6 and this does ot execute as 6 is not less than 5.\n",
    "# we print last updated value of 'answer'."
   ]
  },
  {
   "cell_type": "code",
   "execution_count": 10,
   "id": "1041e260",
   "metadata": {},
   "outputs": [
    {
     "name": "stdout",
     "output_type": "stream",
     "text": [
      "Enter a number\n",
      "10\n",
      "3628800\n"
     ]
    }
   ],
   "source": [
    "# We can use the above code for any integer input or value.\n",
    "print(\"Enter a number\")\n",
    "n = int(input())\n",
    "\n",
    "i = 1\n",
    "answer = 1\n",
    "while (i<=n): # less than or equal to\n",
    "    answer = answer*i\n",
    "    i = i+1\n",
    "    \n",
    "print(answer)"
   ]
  },
  {
   "cell_type": "markdown",
   "id": "38956c0f",
   "metadata": {},
   "source": [
    "# Tutorial On While Loop"
   ]
  },
  {
   "cell_type": "code",
   "execution_count": 1,
   "id": "79c2e155",
   "metadata": {},
   "outputs": [
    {
     "name": "stdout",
     "output_type": "stream",
     "text": [
      "5\n",
      "120\n"
     ]
    }
   ],
   "source": [
    "num = int(input())\n",
    "fact = 1 \n",
    "# we initialize 'fact' with 1 since the factorial of 0 is 1.\n",
    "if (num <0):\n",
    "    print(\"Not defined\")\n",
    "# we cannot print the factorial of negative numbers when num is positive.\n",
    "else:\n",
    "    while (num>0):\n",
    "        fact = fact*num\n",
    "        num = num -1\n",
    "# we reduce the value of 'num' as factorial of a number is n*n-1*n-2*...\n",
    "    print(fact)"
   ]
  },
  {
   "cell_type": "markdown",
   "id": "aeb3236e",
   "metadata": {},
   "source": [
    "### Find the number of digits in a given number"
   ]
  },
  {
   "cell_type": "code",
   "execution_count": 19,
   "id": "e3706b14",
   "metadata": {},
   "outputs": [
    {
     "name": "stdout",
     "output_type": "stream",
     "text": [
      "Enter a number: 1234\n",
      "4\n"
     ]
    }
   ],
   "source": [
    "# The number of digits are not dependent on sign of the number.\n",
    "# Can be a +ve or a -ve number.\n",
    "# we can ignore the sign of a number using absolute function (abs)\n",
    "num = abs(int(input(\"Enter a number: \")))\n",
    "digits = 1\n",
    "# A number does have 1 digit in the minimum possible range.\n",
    "while(num>9):\n",
    "    num = num // 10\n",
    "    digits = digits + 1\n",
    "print(digits)\n"
   ]
  },
  {
   "cell_type": "markdown",
   "id": "ecb301c8",
   "metadata": {},
   "source": [
    "### Reverse the digits in the given number.\n"
   ]
  },
  {
   "cell_type": "code",
   "execution_count": 23,
   "id": "0044b4c9",
   "metadata": {},
   "outputs": [
    {
     "name": "stdout",
     "output_type": "stream",
     "text": [
      "Enter a number :  -1234\n",
      "-4321\n"
     ]
    }
   ],
   "source": [
    "# If the input is 1234, then we need to get the output as 4321.\n",
    "num = int(input(\"Enter a number :  \"))\n",
    "absNum = abs(num)\n",
    "\n",
    "# abs function is used to consider negative numbers as positive.\n",
    "\n",
    "if (num>0):\n",
    "\n",
    "# if number is positive\n",
    "\n",
    "    rev = num % 10\n",
    "    # we use the modulo operator here in order to get the last digit.\n",
    "    num = num // 10\n",
    "    while (num > 0):\n",
    "    # we use a variable 'r' to get the next last digit.('3' in this case.)\n",
    "        r = num % 10 # we store 3 here.\n",
    "        num = num // 10\n",
    "        rev = rev*10 + r\n",
    "    # this while loop runs for 3 times since the number got reduced to 123.\n",
    "    print(rev)\n",
    "\n",
    "# if number is negative use absNum in place of num\n",
    "else:\n",
    "    rev = absNum % 10\n",
    "    \n",
    "    # we use the modulo operator here in order to get the last digit.\n",
    "    \n",
    "    absNum = absNum // 10\n",
    "    while (absNum > 0):\n",
    "    # we use a variable 'r' to get the next last digit.('3' in this case.)\n",
    "        r = absNum % 10 # we store 3 here.\n",
    "        absNum = absNum // 10\n",
    "        rev = rev*10 + r\n",
    "    # this while loop runs for 3 times since the number got reduced to 123.\n",
    "    print(rev - 2*rev)"
   ]
  },
  {
   "cell_type": "code",
   "execution_count": 24,
   "id": "edbdedd4",
   "metadata": {},
   "outputs": [
    {
     "name": "stdout",
     "output_type": "stream",
     "text": [
      "Enter a number :  -1234\n",
      "-4321\n"
     ]
    }
   ],
   "source": [
    "# we can write the above code in a few lines which saves time.\n",
    "\n",
    "num = int(input(\"Enter a number :  \"))\n",
    "absNum = abs(num)\n",
    "rev = absNum % 10\n",
    "absNum = absNum // 10\n",
    "while (absNum > 0):\n",
    "    r = absNum % 10 \n",
    "    absNum = absNum // 10\n",
    "    rev = rev*10 + r\n",
    "# Now the result will be printed according to nature of number.\n",
    "if(num >= 0):\n",
    "    print(rev)\n",
    "else:\n",
    "    print(rev - 2*rev)\n"
   ]
  },
  {
   "cell_type": "markdown",
   "id": "20048a73",
   "metadata": {},
   "source": [
    "### Find whether the entered number is a Palindrome ?"
   ]
  },
  {
   "cell_type": "code",
   "execution_count": 25,
   "id": "9668f726",
   "metadata": {},
   "outputs": [
    {
     "name": "stdout",
     "output_type": "stream",
     "text": [
      "Enter a number :  -1221\n",
      "Palindrome\n"
     ]
    }
   ],
   "source": [
    "# Palindrome number is a special type of number which is\n",
    "# exactly equal to its original before reversing the digits.\n",
    "\n",
    "# 12321 , 121 , -1221 are some examples.\n",
    "\n",
    "num = int(input(\"Enter a number :  \"))\n",
    "absNum = abs(num)\n",
    "rev = absNum % 10\n",
    "absNum = absNum // 10\n",
    "while (absNum > 0):\n",
    "    r = absNum % 10 \n",
    "    absNum = absNum // 10\n",
    "    rev = rev*10 + r\n",
    "if(num <0):\n",
    "    rev = rev-2*rev\n",
    "    \n",
    "if(num == rev):\n",
    "    print(\"Palindrome\")\n",
    "else:\n",
    "    print(\"Not a Palindrome\")\n"
   ]
  },
  {
   "cell_type": "markdown",
   "id": "7d562134",
   "metadata": {},
   "source": [
    "# For Loop"
   ]
  },
  {
   "cell_type": "code",
   "execution_count": 26,
   "id": "b099de8e",
   "metadata": {},
   "outputs": [
    {
     "name": "stdout",
     "output_type": "stream",
     "text": [
      "All the Best\n",
      "All the Best\n",
      "All the Best\n",
      "All the Best\n",
      "All the Best\n"
     ]
    }
   ],
   "source": [
    "#  for loop is very useful in saving time and getting the result\n",
    "# that we wanted to get.\n",
    "\n",
    "# if we want to print \"All the Best\" 5 times, then:\n",
    "\n",
    "print(\"All the Best\")\n",
    "print(\"All the Best\")\n",
    "print(\"All the Best\")\n",
    "print(\"All the Best\")\n",
    "print(\"All the Best\")\n",
    "\n"
   ]
  },
  {
   "cell_type": "code",
   "execution_count": 32,
   "id": "23d94bf5",
   "metadata": {},
   "outputs": [
    {
     "name": "stdout",
     "output_type": "stream",
     "text": [
      "0 All the Best\n",
      "1 All the Best\n",
      "2 All the Best\n",
      "3 All the Best\n",
      "4 All the Best\n"
     ]
    }
   ],
   "source": [
    "# this is where the for loop can do us some help.\n",
    "\n",
    "for i in range(5):\n",
    "    print(i,\"All the Best\")"
   ]
  },
  {
   "cell_type": "code",
   "execution_count": 35,
   "id": "7f2b2bf6",
   "metadata": {},
   "outputs": [
    {
     "name": "stdout",
     "output_type": "stream",
     "text": [
      "Enter a number :\n",
      "6\n",
      "0 All the Best\n",
      "1 Better luck next time\n",
      "2 All the Best\n",
      "3 Better luck next time\n",
      "4 All the Best\n",
      "5 Better luck next time\n"
     ]
    }
   ],
   "source": [
    "# we can declare some conditions to be passed to execute for loop.\n",
    "print(\"Enter a number :\")\n",
    "n = int(input())\n",
    "\n",
    "for i in range(n):\n",
    "    if(i%2 == 0):\n",
    "        print(i,\"All the Best\")\n",
    "    else:\n",
    "        print(i,\"Better luck next time\")"
   ]
  },
  {
   "cell_type": "markdown",
   "id": "18c8be4f",
   "metadata": {},
   "source": [
    "### Add first n numbers"
   ]
  },
  {
   "cell_type": "code",
   "execution_count": 40,
   "id": "3a5b7580",
   "metadata": {},
   "outputs": [
    {
     "name": "stdout",
     "output_type": "stream",
     "text": [
      "Enter a number : \n",
      "10\n",
      "45\n"
     ]
    }
   ],
   "source": [
    "# Assume that we need sum of first 10 integers.\n",
    "# sum = 1+2+3+4+5+6+7+8+9 = 45\n",
    "'''\n",
    "ans = 0+1+2+3+4+5+6+7+8+9\n",
    "print(ans)\n",
    "\n",
    "# n could be any (not only 10).'''\n",
    "\n",
    "print(\"Enter a number : \")\n",
    "n = int(input())\n",
    "\n",
    "ans = 0\n",
    "for i in range(10):\n",
    "    ans = ans+ i\n",
    "print(ans)\n",
    "    \n",
    "# ans = 0\n",
    "# ans = ans + 0, the value is 0\n",
    "# ans = ans + 1, the value is 1\n",
    "# ans = ans + 2, the value is 3\n",
    "# ans = ans + 3, the value is 6\n",
    "# ans = ans + 4, the value is 10\n",
    "# ans = ans + 5, the value is 15\n",
    "# ans = ans + 6, the value is 21\n",
    "# ans = ans + 7, the value is 28\n",
    "# ans = ans + 8, the value is 36\n",
    "# ans = ans + 9, the value is 45"
   ]
  },
  {
   "cell_type": "markdown",
   "id": "24f8de81",
   "metadata": {},
   "source": [
    "### For loop for multiplication tables"
   ]
  },
  {
   "cell_type": "code",
   "execution_count": 41,
   "id": "09f8500f",
   "metadata": {},
   "outputs": [
    {
     "name": "stdout",
     "output_type": "stream",
     "text": [
      "2 X 0 = 0\n",
      "2 X 1 = 2\n",
      "2 X 2 = 4\n",
      "2 X 3 = 6\n",
      "2 X 4 = 8\n",
      "2 X 5 = 10\n",
      "2 X 6 = 12\n",
      "2 X 7 = 14\n",
      "2 X 8 = 16\n",
      "2 X 9 = 18\n"
     ]
    }
   ],
   "source": [
    "'''\n",
    "General approach:-\n",
    "print(\"2 X 1 = 2\")\n",
    "print(\"2 X 2 = 4\")\n",
    "print(\"2 X 3 = 6\")\n",
    "print(\"2 X 4 = 8\")\n",
    "print(\"2 X 5 = 10\")\n",
    "print(\"2 X 6 = 12\")\n",
    "print(\"2 X 7 = 14\")\n",
    "print(\"2 X 8 = 16\")\n",
    "print(\"2 X 9 = 18\")\n",
    "print(\"2 X 10 = 20\")\n",
    "'''\n",
    "\n",
    "for i in range(10):\n",
    "    print(\"2 X\", i, \"=\", 2*i)"
   ]
  },
  {
   "cell_type": "code",
   "execution_count": 43,
   "id": "eae89755",
   "metadata": {},
   "outputs": [
    {
     "name": "stdout",
     "output_type": "stream",
     "text": [
      "2 X 1 = 2\n",
      "2 X 2 = 4\n",
      "2 X 3 = 6\n",
      "2 X 4 = 8\n",
      "2 X 5 = 10\n",
      "2 X 6 = 12\n",
      "2 X 7 = 14\n",
      "2 X 8 = 16\n",
      "2 X 9 = 18\n",
      "2 X 10 = 20\n"
     ]
    }
   ],
   "source": [
    "# in the above result, we're getting the 2 X 0 = 0 due to\n",
    "# range function. In general range starts from 0 and ends before (n-1).\n",
    "# To eliminate 2 X 0 = 0, we can change the range function accordingly.\n",
    "\n",
    "for i in range(1,11):\n",
    "    print(\"2 X\", i, \"=\", 2*i)"
   ]
  },
  {
   "cell_type": "markdown",
   "id": "b418f3f7",
   "metadata": {},
   "source": [
    "## More on Range and Variation in For loop"
   ]
  },
  {
   "cell_type": "code",
   "execution_count": 44,
   "id": "81a0ffd1",
   "metadata": {},
   "outputs": [
    {
     "name": "stdout",
     "output_type": "stream",
     "text": [
      "1\n",
      "3\n",
      "5\n",
      "7\n",
      "9\n"
     ]
    }
   ],
   "source": [
    "# if we want to print the odd numbers between 1 to 10,\n",
    "# it can be done using range function.\n",
    "\n",
    "for x in range(1,11):\n",
    "    if(x % 2 != 0):\n",
    "        print(x)"
   ]
  },
  {
   "cell_type": "code",
   "execution_count": 45,
   "id": "7a479aa0",
   "metadata": {},
   "outputs": [
    {
     "name": "stdout",
     "output_type": "stream",
     "text": [
      "1\n",
      "3\n",
      "5\n",
      "7\n",
      "9\n"
     ]
    }
   ],
   "source": [
    "# printing odd numbers without using the inner if loop.\n",
    "\n",
    "# we add one more parameter called step which acts a difference between\n",
    "# two numbers.\n",
    "\n",
    "# range(1,11,2)\n",
    "# 1 -> start value\n",
    "# 11 -> end value\n",
    "# 2 -> step \n",
    "\n",
    "for x in range(1,11,2):\n",
    "    print(x)"
   ]
  },
  {
   "cell_type": "code",
   "execution_count": 46,
   "id": "fbf5e2a2",
   "metadata": {},
   "outputs": [
    {
     "name": "stdout",
     "output_type": "stream",
     "text": [
      "9\n",
      "7\n",
      "5\n",
      "3\n",
      "1\n"
     ]
    }
   ],
   "source": [
    "# In the above example we had printed the odd numbers between 1 to 10\n",
    "# in ascending order using step value.\n",
    "\n",
    "# we can get the odd numbers between 1 and 10 in a descending order also.\n",
    "\n",
    "# For that to happen we need some changes in range parameters.\n",
    "\n",
    "for x in range(9,0,-2):\n",
    "    print(x)"
   ]
  },
  {
   "cell_type": "markdown",
   "id": "9b36fbc0",
   "metadata": {},
   "source": [
    "###  For loop without range"
   ]
  },
  {
   "cell_type": "code",
   "execution_count": 48,
   "id": "34b913aa",
   "metadata": {},
   "outputs": [
    {
     "name": "stdout",
     "output_type": "stream",
     "text": [
      "P\n",
      "y\n",
      "t\n",
      "h\n",
      "o\n",
      "n\n"
     ]
    }
   ],
   "source": [
    "# there's is a way to use for loop without range which is sometimes\n",
    "# called as 'for each'.\n",
    "\n",
    "# let's try that with an example.\n",
    "\n",
    "Subject = \"Python\"\n",
    "for letter in Subject:\n",
    "    print(letter)"
   ]
  },
  {
   "cell_type": "code",
   "execution_count": 49,
   "id": "da8d7e1a",
   "metadata": {},
   "outputs": [
    {
     "name": "stdout",
     "output_type": "stream",
     "text": [
      "P\n",
      "y\n",
      "t\n",
      "h\n",
      "o\n",
      "n\n"
     ]
    }
   ],
   "source": [
    "# this particular for loop goes through the entire string stored in\n",
    "# Subject which is a variable, character by character.\n",
    "\n",
    "#this code is similar to the below print statements.\n",
    "\n",
    "print(Subject[0])\n",
    "print(Subject[1])\n",
    "print(Subject[2])\n",
    "print(Subject[3])\n",
    "print(Subject[4])\n",
    "print(Subject[5])"
   ]
  },
  {
   "cell_type": "markdown",
   "id": "6c58680f",
   "metadata": {},
   "source": [
    "# More on Print Statement"
   ]
  },
  {
   "cell_type": "code",
   "execution_count": 50,
   "id": "5c19aaad",
   "metadata": {},
   "outputs": [
    {
     "name": "stdout",
     "output_type": "stream",
     "text": [
      "0\n",
      "1\n",
      "2\n",
      "3\n",
      "4\n",
      "5\n",
      "6\n",
      "7\n",
      "8\n",
      "9\n"
     ]
    }
   ],
   "source": [
    "for x in range(10):\n",
    "    print(x)"
   ]
  },
  {
   "cell_type": "markdown",
   "id": "2da4de8e",
   "metadata": {},
   "source": [
    "### end parameter"
   ]
  },
  {
   "cell_type": "code",
   "execution_count": 51,
   "id": "d6698396",
   "metadata": {},
   "outputs": [
    {
     "name": "stdout",
     "output_type": "stream",
     "text": [
      "0 1 2 3 4 5 6 7 8 9 10 "
     ]
    }
   ],
   "source": [
    "# How do we stop printing in a new line? Is that possible ?\n",
    "# Let's check that now !!\n",
    "\n",
    "# It is possible to print all the output in a single line using 'end'.\n",
    "\n",
    "for x in range(11):\n",
    "    print(x, end = ' ')"
   ]
  },
  {
   "cell_type": "markdown",
   "id": "a649b5e8",
   "metadata": {},
   "source": [
    "### sep parameter"
   ]
  },
  {
   "cell_type": "code",
   "execution_count": 57,
   "id": "06eac47d",
   "metadata": {},
   "outputs": [
    {
     "name": "stdout",
     "output_type": "stream",
     "text": [
      "India got Independence on 15 8 1947\n"
     ]
    }
   ],
   "source": [
    "# Assume we want to print the Independence Day's Date.\n",
    "# 15/8/1947\n",
    "\n",
    "d = 15\n",
    "m = 8\n",
    "y = 1947\n",
    "print(\"India got Independence on\", d, m, y)\n"
   ]
  },
  {
   "cell_type": "code",
   "execution_count": 58,
   "id": "155580d5",
   "metadata": {},
   "outputs": [
    {
     "name": "stdout",
     "output_type": "stream",
     "text": [
      "India got Independence on/15/8/1947\n"
     ]
    }
   ],
   "source": [
    "# we see that the date doesn't have either - or /.\n",
    "# Spaces are being added due to a parameter called 'sep' and the default value of 'sep' is space.\n",
    "# we can over-write the value of 'sep' with one we want to have in place of a space.\n",
    "\n",
    "d = 15\n",
    "m = 8\n",
    "y = 1947\n",
    "print(\"India got Independence on\", d, m, y, sep = '/')"
   ]
  },
  {
   "cell_type": "code",
   "execution_count": 60,
   "id": "46d173ed",
   "metadata": {},
   "outputs": [
    {
     "name": "stdout",
     "output_type": "stream",
     "text": [
      "India got Independence on 15/8/1947\n"
     ]
    }
   ],
   "source": [
    "# Still there's an error as we have a '/' between on and 10.\n",
    "# Simply we can write a new print statement with d,m,y by specifying seperator.\n",
    "\n",
    "d = 15\n",
    "m = 8\n",
    "y = 1947\n",
    "print(\"India got Independence on\", end = ' ')\n",
    "print(d, m, y, sep = '/')"
   ]
  },
  {
   "cell_type": "markdown",
   "id": "1b04a61f",
   "metadata": {},
   "source": [
    "# Formatted Printing"
   ]
  },
  {
   "cell_type": "code",
   "execution_count": 61,
   "id": "a088b98f",
   "metadata": {},
   "outputs": [
    {
     "name": "stdout",
     "output_type": "stream",
     "text": [
      "5\n",
      "5 X 1 = 5\n",
      "5 X 2 = 10\n",
      "5 X 3 = 15\n",
      "5 X 4 = 20\n",
      "5 X 5 = 25\n",
      "5 X 6 = 30\n",
      "5 X 7 = 35\n",
      "5 X 8 = 40\n",
      "5 X 9 = 45\n",
      "5 X 10 = 50\n"
     ]
    }
   ],
   "source": [
    "# we can print the multiples of a number using one of the codes above.\n",
    "# this is a general approach\n",
    "\n",
    "num = int(input())\n",
    "for i in range(1,11):\n",
    "    print(num, 'X', i, '=', num*i)"
   ]
  },
  {
   "cell_type": "code",
   "execution_count": 62,
   "id": "c8259d62",
   "metadata": {},
   "outputs": [
    {
     "name": "stdout",
     "output_type": "stream",
     "text": [
      "5\n",
      "5 X 1 = 5\n",
      "5 X 2 = 10\n",
      "5 X 3 = 15\n",
      "5 X 4 = 20\n",
      "5 X 5 = 25\n",
      "5 X 6 = 30\n",
      "5 X 7 = 35\n",
      "5 X 8 = 40\n",
      "5 X 9 = 45\n",
      "5 X 10 = 50\n"
     ]
    }
   ],
   "source": [
    "# We can print the same using a variant in easier manner.\n",
    "\n",
    "num = int(input())\n",
    "for i in range(1,11):\n",
    "    #print(num, 'X', i, '=', num*i)\n",
    "    print(f'{num} X {i} = {num * i}')\n",
    "\n",
    "# this is called as formatted printing.\n",
    "# In the commented line, we have 3 integers and 2 strings\n",
    "# The entire {num} X {i} = {num * i} is considered to be a single string."
   ]
  },
  {
   "cell_type": "markdown",
   "id": "32a80d01",
   "metadata": {},
   "source": [
    "### Format function of print statement"
   ]
  },
  {
   "cell_type": "code",
   "execution_count": 63,
   "id": "f9ecab5e",
   "metadata": {},
   "outputs": [
    {
     "name": "stdout",
     "output_type": "stream",
     "text": [
      "5\n",
      "5 X 1 = 5\n",
      "5 X 2 = 10\n",
      "5 X 3 = 15\n",
      "5 X 4 = 20\n",
      "5 X 5 = 25\n",
      "5 X 6 = 30\n",
      "5 X 7 = 35\n",
      "5 X 8 = 40\n",
      "5 X 9 = 45\n",
      "5 X 10 = 50\n"
     ]
    }
   ],
   "source": [
    "# format function is denoted and used in python as '.format()'\n",
    "\n",
    "num = int(input())\n",
    "for i in range(1,11):\n",
    "    #print(num, 'X', i, '=', num*i)\n",
    "    #print(f'{num} X {i} = {num * i}')\n",
    "    print('{0} X {1} = {2}'.format(num, i, num*i))\n",
    "    \n",
    "# Acc. to format function num, i, num*i correspond to 0,1 & 2 respectively."
   ]
  },
  {
   "cell_type": "markdown",
   "id": "412106f0",
   "metadata": {},
   "source": [
    "### An old way of printing"
   ]
  },
  {
   "cell_type": "code",
   "execution_count": 68,
   "id": "9d0982ad",
   "metadata": {},
   "outputs": [
    {
     "name": "stdout",
     "output_type": "stream",
     "text": [
      "5\n",
      "5 X 1 = 5\n",
      "5 X 2 = 10\n",
      "5 X 3 = 15\n",
      "5 X 4 = 20\n",
      "5 X 5 = 25\n",
      "5 X 6 = 30\n",
      "5 X 7 = 35\n",
      "5 X 8 = 40\n",
      "5 X 9 = 45\n",
      "5 X 10 = 50\n"
     ]
    }
   ],
   "source": [
    "# we use %d here\n",
    "\n",
    "num = int(input())\n",
    "for i in range(1,11):\n",
    "    #print(num, 'X', i, '=', num*i)\n",
    "    #print(f'{num} X {i} = {num * i}')\n",
    "    #print('{0} X {1} = {2}'.format(num, i, num*i))\n",
    "    print('%d X %d = %d' % (num, i, num*i))\n",
    "    \n",
    "# this works the same like format function.\n"
   ]
  },
  {
   "cell_type": "code",
   "execution_count": 69,
   "id": "b5da212e",
   "metadata": {},
   "outputs": [
    {
     "name": "stdout",
     "output_type": "stream",
     "text": [
      "value of PI = 3.142857142857143\n",
      "Value of PI = 3.142857142857143\n",
      "Value of PI = 3.142857\n"
     ]
    }
   ],
   "source": [
    "# Let's see if all the formats give the same output.\n",
    "\n",
    "pi = 22/7\n",
    "print(f'value of PI = {pi}')\n",
    "print('Value of PI = {0}'.format(pi))\n",
    "print('Value of PI = %f' % (pi))\n",
    "\n",
    "# The last method of printing has some limitations as it is an old method."
   ]
  },
  {
   "cell_type": "code",
   "execution_count": 71,
   "id": "d4aaca61",
   "metadata": {},
   "outputs": [
    {
     "name": "stdout",
     "output_type": "stream",
     "text": [
      "value of PI = 3.14\n",
      "Value of PI = 3.14\n",
      "Value of PI = 3.14\n"
     ]
    }
   ],
   "source": [
    "# We feel happy with the value of pi as 3.14 for faster calculations.\n",
    "# The value of 'pi' can be reduced to 3.14 using format specifiers\n",
    "\n",
    "pi = 22/7\n",
    "print(f'value of PI = {pi:.2f}')\n",
    "print('Value of PI = {0:.2f}'.format(pi))\n",
    "print('Value of PI = %.2f' % (pi))\n",
    "\n",
    "# format specifier is very useful in order to display the output in a specific manner."
   ]
  },
  {
   "cell_type": "code",
   "execution_count": 72,
   "id": "5ce862ed",
   "metadata": {},
   "outputs": [
    {
     "name": "stdout",
     "output_type": "stream",
     "text": [
      "1\n",
      "11\n",
      "111\n",
      "1111\n",
      "11111\n"
     ]
    }
   ],
   "source": [
    "# We can also print some patterns using format specifiers.\n",
    "\n",
    "print('{0}'.format(1))\n",
    "print('{0}'.format(11))\n",
    "print('{0}'.format(111))\n",
    "print('{0}'.format(1111))\n",
    "print('{0}'.format(11111))\n",
    "# this pattern is aligned to the left hand side."
   ]
  },
  {
   "cell_type": "code",
   "execution_count": 74,
   "id": "aa2959e3",
   "metadata": {},
   "outputs": [
    {
     "name": "stdout",
     "output_type": "stream",
     "text": [
      "    1\n",
      "   11\n",
      "  111\n",
      " 1111\n",
      "11111\n"
     ]
    }
   ],
   "source": [
    "# To print the same pattern aligned to the right. It is easily possible to do by adding spaces.\n",
    "# But that becomes a tedius process if it was a long pattern.\n",
    "# Let's see how we can counter this with ease. We see that the max. length is 0f 5 1's.\n",
    "# We can give 5d after 0 before format parameter which indicates the computer that we\n",
    "# want to use min. 5 characters in print statement.\n",
    "\n",
    "print('{0:5d}'.format(1))\n",
    "print('{0:5d}'.format(11))\n",
    "print('{0:5d}'.format(111))\n",
    "print('{0:5d}'.format(1111))\n",
    "print('{0:5d}'.format(11111))"
   ]
  },
  {
   "cell_type": "markdown",
   "id": "0ab1317b",
   "metadata": {},
   "source": [
    "## More on For Loop"
   ]
  },
  {
   "cell_type": "code",
   "execution_count": 6,
   "id": "ccaa78f8",
   "metadata": {},
   "outputs": [
    {
     "name": "stdout",
     "output_type": "stream",
     "text": [
      "5\n",
      "120\n"
     ]
    }
   ],
   "source": [
    "''' Let's discuss examples which are used for while loop for a better understanding'''\n",
    "'''Problem 1 : Find the factorial of given number'''\n",
    "\n",
    "num = int(input())\n",
    "fact = 1\n",
    "if(num < 0):\n",
    "    print(\"Not defined\")\n",
    "else:\n",
    "    for i in range(num, 1, -1):\n",
    "        fact = fact * i\n",
    "    print(fact)\n",
    "#In while loop there's a line for reducing the number by 1 which is num = num -1.\n",
    "#In this case we dont need that as the range function is having a step of -1.\n",
    "    \n",
    "    "
   ]
  },
  {
   "cell_type": "markdown",
   "id": "7483e9b8",
   "metadata": {},
   "source": [
    "### How to decide which loop is more ideal for a particular code. ( Factors)\n",
    "\n",
    "\n",
    "#### 1) For loop is to be used if we know the range of the loop. ( loop runs for n number of times )\n",
    "#### 2) While loop is to be used if we do not know the range of loop\n",
    "\n",
    "####  For loop requires the range function which has the start and end points. So it is mandatory to know the range of iterations."
   ]
  },
  {
   "cell_type": "code",
   "execution_count": 9,
   "id": "073cc40c",
   "metadata": {},
   "outputs": [
    {
     "name": "stdout",
     "output_type": "stream",
     "text": [
      "Enter a number: 1234\n",
      "4\n"
     ]
    }
   ],
   "source": [
    "''' Problem 2 : Find the number of digits in given number '''\n",
    "\n",
    "num = abs(int(input(\"Enter a number: \")))\n",
    "digits = 1\n",
    "# A number does have 1 digit in the minimum possible range.\n",
    "while(num>9):\n",
    "    num = num // 10\n",
    "    digits = digits + 1\n",
    "print(digits)\n",
    "    \n",
    "# The number of iterations cannot be predicted because the number entered by user can be a single digit or it can have n digits.\n",
    "# Hence we cannot predict how many times this loop gets iterated and therefore we use while loop.\n",
    "# In such a case it is not possible to convert this into an equivalent for loop code."
   ]
  },
  {
   "cell_type": "code",
   "execution_count": 12,
   "id": "087dc0ce",
   "metadata": {},
   "outputs": [
    {
     "name": "stdout",
     "output_type": "stream",
     "text": [
      "1234\n",
      "4\n"
     ]
    }
   ],
   "source": [
    "''' Solving Problem 2 with for each approach '''\n",
    "\n",
    "# This is not an ideal code, but is possible to build one using 2nd approach of for loop.\n",
    "\n",
    "num = abs(int(input()))\n",
    "strNum = str(num) # we convert the given number into a string.\n",
    "digits = 0\n",
    "for c in strNum:\n",
    "    digits = digits + 1\n",
    "print(digits)"
   ]
  },
  {
   "cell_type": "code",
   "execution_count": null,
   "id": "e1ac86ac",
   "metadata": {},
   "outputs": [],
   "source": [
    "''' Problem 3 : Reverse the digits in a given number '''\n",
    "\n",
    "num = int(input(\"Enter a number :  \"))\n",
    "absNum = abs(num)\n",
    "rev = absNum % 10\n",
    "absNum = absNum // 10\n",
    "while (absNum > 0):\n",
    "    r = absNum % 10 \n",
    "    absNum = absNum // 10\n",
    "    rev = rev*10 + r\n",
    "# Now the result will be printed according to nature of number.\n",
    "if(num >= 0):\n",
    "    print(rev)\n",
    "else:\n",
    "    print(rev - 2*rev)\n",
    "\n",
    "# in this code, we cannot predict how many number of times while loop gets executed. ence the range function cannot be used.\n"
   ]
  },
  {
   "cell_type": "code",
   "execution_count": 11,
   "id": "67772bcc",
   "metadata": {},
   "outputs": [
    {
     "name": "stdout",
     "output_type": "stream",
     "text": [
      "Enter a number :  1234\n",
      "4321\n"
     ]
    }
   ],
   "source": [
    "# We need to opt for 2nd feature of for loop which for each. we convert the given number into a string and proceed accordingly.\n",
    "\n",
    "num = int(input(\"Enter a number :  \"))\n",
    "absStrnum = str(abs(num))\n",
    "rev = '' \n",
    "# we create an empty string as we are doing al operations using strings.\n",
    "for c in absStrnum:\n",
    "    rev = c + rev # concatenation is done between the strings.\n",
    "if(num >= 0):\n",
    "    print(rev)\n",
    "else:\n",
    "    print('-' + rev)\n"
   ]
  },
  {
   "cell_type": "code",
   "execution_count": 13,
   "id": "82e48fc0",
   "metadata": {},
   "outputs": [
    {
     "name": "stdout",
     "output_type": "stream",
     "text": [
      "Enter a number :  1221\n",
      "Palindrome\n"
     ]
    }
   ],
   "source": [
    "''' Find whether the entered number is a Palindrome or not. '''\n",
    "\n",
    "num = int(input(\"Enter a number :  \"))\n",
    "absNum = abs(num)\n",
    "rev = absNum % 10\n",
    "absNum = absNum // 10\n",
    "while (absNum > 0):\n",
    "    r = absNum % 10 \n",
    "    absNum = absNum // 10\n",
    "    rev = rev*10 + r\n",
    "if(num <0):\n",
    "    rev = rev-2*rev\n",
    "    \n",
    "if(num == rev):\n",
    "    print(\"Palindrome\")\n",
    "else:\n",
    "    print(\"Not a Palindrome\")\n",
    "    \n",
    "# in this case as well we cannot trace the no. of iterations of the while loop. Hence while loop is used."
   ]
  },
  {
   "cell_type": "code",
   "execution_count": 15,
   "id": "7116f616",
   "metadata": {},
   "outputs": [
    {
     "name": "stdout",
     "output_type": "stream",
     "text": [
      "Enter a number :  1221\n",
      "Palindrome\n"
     ]
    }
   ],
   "source": [
    "# We must apply the 2nd for loop approach which is 'for each' for this question to make it happen using for loop.\n",
    "\n",
    "num = int(input(\"Enter a number :  \"))\n",
    "absStrNum = str(abs(num))\n",
    "rev = ''\n",
    "\n",
    "for c in absStrNum:\n",
    "    rev = c + rev\n",
    "if(num < 0):\n",
    "    rev = '-' + rev\n",
    "if(num == int(rev)):      # we must convert the string into an integer.\n",
    "    print(\"Palindrome\")\n",
    "else:\n",
    "    print(\"Not a Palindrome\")"
   ]
  },
  {
   "cell_type": "markdown",
   "id": "1a33beb0",
   "metadata": {},
   "source": [
    " ## Nested For Loop\n",
    " "
   ]
  },
  {
   "cell_type": "code",
   "execution_count": 19,
   "id": "3976ce97",
   "metadata": {},
   "outputs": [
    {
     "name": "stdout",
     "output_type": "stream",
     "text": [
      "V\n",
      "I\n",
      "B\n",
      "G\n",
      "Y\n",
      "O\n",
      "R\n"
     ]
    }
   ],
   "source": [
    "s = 'VIBGYOR'\n",
    "'''\n",
    "print(s[0])\n",
    "print(s[1])\n",
    "print(s[2])\n",
    "print(s[3])\n",
    "print(s[4])\n",
    "print(s[5])\n",
    "print(s[6])'''\n",
    "\n",
    "for i in range(7):\n",
    "    print(s[i])"
   ]
  },
  {
   "cell_type": "code",
   "execution_count": 22,
   "id": "ae8eec6d",
   "metadata": {},
   "outputs": [
    {
     "name": "stdout",
     "output_type": "stream",
     "text": [
      "0 0 V V\n",
      "0 1 V I\n",
      "0 2 V B\n",
      "0 3 V G\n",
      "0 4 V Y\n",
      "0 5 V O\n",
      "0 6 V R\n",
      "1 0 I V\n",
      "1 1 I I\n",
      "1 2 I B\n",
      "1 3 I G\n",
      "1 4 I Y\n",
      "1 5 I O\n",
      "1 6 I R\n",
      "2 0 B V\n",
      "2 1 B I\n",
      "2 2 B B\n",
      "2 3 B G\n",
      "2 4 B Y\n",
      "2 5 B O\n",
      "2 6 B R\n",
      "3 0 G V\n",
      "3 1 G I\n",
      "3 2 G B\n",
      "3 3 G G\n",
      "3 4 G Y\n",
      "3 5 G O\n",
      "3 6 G R\n",
      "4 0 Y V\n",
      "4 1 Y I\n",
      "4 2 Y B\n",
      "4 3 Y G\n",
      "4 4 Y Y\n",
      "4 5 Y O\n",
      "4 6 Y R\n",
      "5 0 O V\n",
      "5 1 O I\n",
      "5 2 O B\n",
      "5 3 O G\n",
      "5 4 O Y\n",
      "5 5 O O\n",
      "5 6 O R\n",
      "6 0 R V\n",
      "6 1 R I\n",
      "6 2 R B\n",
      "6 3 R G\n",
      "6 4 R Y\n",
      "6 5 R O\n",
      "6 6 R R\n",
      "The total ways in which the two brothers can wear 7 diff. colours: 49\n"
     ]
    }
   ],
   "source": [
    "s = 'VIBGYOR'\n",
    "t = 'VIBGYOR'\n",
    "\n",
    "# s and t two brothers. They wear one of the coulors each day.\n",
    "# What are all possible ways that s and t can wear ?\n",
    "\n",
    "# example for a nested loop\n",
    "count = 0\n",
    "\n",
    "for i in range(7):\n",
    "    for j in range(7):\n",
    "        print(i,j,s[i],s[j])\n",
    "        count = count + 1\n",
    "\n",
    "print(\"The total ways in which the two brothers can wear 7 diff. colours:\",count)\n",
    "# i = 0, j = 0 print VV\n",
    "# i = 0, j = 1 print VI\n",
    "# i = 0, j = 2 print VB\n",
    "#.....\n",
    "\n",
    "# to make it interesting we can print i and j as well."
   ]
  },
  {
   "cell_type": "markdown",
   "id": "5eaf5218",
   "metadata": {},
   "source": [
    " ## Tutorial on Nested Loops"
   ]
  },
  {
   "cell_type": "code",
   "execution_count": 28,
   "id": "ef855d2b",
   "metadata": {},
   "outputs": [
    {
     "name": "stdout",
     "output_type": "stream",
     "text": [
      "Enter a number :10\n",
      "2 3 5 7 "
     ]
    }
   ],
   "source": [
    "# we have studied two loops which are while and for.\n",
    "# Nesting can be done in any manner like for in for, while in while, while in for , for in while.\n",
    "\n",
    "''' Problem 1 : find all prime numbers less than entered number '''\n",
    "\n",
    "num = int(input(\"Enter a number :\"))\n",
    "if (num>2):\n",
    "    print(2, end = ' ')\n",
    "    \n",
    "for i in range(3, num):\n",
    "    flag = False\n",
    "    for j in range(2,i): # i represents the value of outer iteration.\n",
    "        if (i % j == 0):\n",
    "            flag = False\n",
    "            break # only breaks the inner if loop.\n",
    "        else:\n",
    "            flag = True\n",
    "    if (flag):\n",
    "        print(i, end = ' ')\n",
    "\n"
   ]
  },
  {
   "cell_type": "markdown",
   "id": "afa5815e",
   "metadata": {},
   "source": [
    "## break , continue and pass keywords"
   ]
  },
  {
   "cell_type": "markdown",
   "id": "a2493a4a",
   "metadata": {},
   "source": [
    "### break keyword"
   ]
  },
  {
   "cell_type": "code",
   "execution_count": 30,
   "id": "68b095b4",
   "metadata": {},
   "outputs": [
    {
     "name": "stdout",
     "output_type": "stream",
     "text": [
      "abc@xyz.in\n",
      "a\n",
      "b\n",
      "c\n"
     ]
    }
   ],
   "source": [
    "# consider a mail id to be abc@xyz.in\n",
    "email = input()\n",
    "for c in email:\n",
    "    if(c == '@'): # this loop doesn't get executed until c is @\n",
    "        break\n",
    "    print(c)\n",
    "\n",
    "# the function of exit and break is identical, these simply stops execution of a loop."
   ]
  },
  {
   "cell_type": "markdown",
   "id": "8a82a3b4",
   "metadata": {},
   "source": [
    "### continue keyword"
   ]
  },
  {
   "cell_type": "code",
   "execution_count": 32,
   "id": "7307de11",
   "metadata": {},
   "outputs": [
    {
     "name": "stdout",
     "output_type": "stream",
     "text": [
      "abc@xyz.in\n",
      "abc\n",
      "xyz.in"
     ]
    }
   ],
   "source": [
    "# We can get the username of email id in the first line and domain name in second line.\n",
    "# the keyword continue is used to skip an iteration.\n",
    "email = input()\n",
    "for c in email:\n",
    "    if(c == '@'):\n",
    "        print('')\n",
    "        continue\n",
    "    print(c, end = '')"
   ]
  },
  {
   "cell_type": "markdown",
   "id": "71f41e27",
   "metadata": {},
   "source": [
    " ### pass keyword"
   ]
  },
  {
   "cell_type": "code",
   "execution_count": 34,
   "id": "9d5765c8",
   "metadata": {},
   "outputs": [
    {
     "name": "stdout",
     "output_type": "stream",
     "text": [
      "0\n",
      "3\n",
      "6\n",
      "9\n"
     ]
    }
   ],
   "source": [
    "# the keyword pass is a just a placeholder and performs no operation. \n",
    "for x in range(11):\n",
    "    if(x % 3 == 0):\n",
    "        print(x)\n",
    "    else:\n",
    "        pass #this is where we use pass.\n",
    "    \n",
    "# there is a difference between comment and pass. We get an EOF error when there's no line written.\n",
    "# If there's pass keyword, compiler understands the keyword and interprets the code accordingly."
   ]
  }
 ],
 "metadata": {
  "kernelspec": {
   "display_name": "Python 3 (ipykernel)",
   "language": "python",
   "name": "python3"
  },
  "language_info": {
   "codemirror_mode": {
    "name": "ipython",
    "version": 3
   },
   "file_extension": ".py",
   "mimetype": "text/x-python",
   "name": "python",
   "nbconvert_exporter": "python",
   "pygments_lexer": "ipython3",
   "version": "3.10.0"
  }
 },
 "nbformat": 4,
 "nbformat_minor": 5
}
