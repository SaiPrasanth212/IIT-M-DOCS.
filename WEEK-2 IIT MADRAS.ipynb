{
 "cells": [
  {
   "cell_type": "markdown",
   "id": "834943ec",
   "metadata": {},
   "source": [
    "## Example for Variables and Comments :-"
   ]
  },
  {
   "cell_type": "code",
   "execution_count": 4,
   "id": "fc8bbcc7",
   "metadata": {},
   "outputs": [
    {
     "name": "stdout",
     "output_type": "stream",
     "text": [
      "1000000\n"
     ]
    }
   ],
   "source": [
    "ram_bankbalance = 500000\n",
    "lakshman_bankbalance = 1000000\n",
    "\n",
    "# name_bankbalance is the balance that a person holds.\n",
    "\n",
    "ram_bankloan = 200000\n",
    "lakshman_bankloan = 300000\n",
    "\n",
    "# name_bankloan is the loan that the person is liable for.\n",
    "\n",
    "total_bankbalance = ram_bankbalance + lakshman_bankbalance\n",
    "# total_bankbalance is the sum of the balances that the brothers have together.\n",
    "\n",
    "total_liabilities = ram_bankloan + lakshman_bankloan\n",
    "# total_liabilities is the amount of loan they have together.\n",
    "\n",
    "net_balance = total_bankbalance - total_liabilities\n",
    "print(net_balance)"
   ]
  },
  {
   "cell_type": "markdown",
   "id": "4d80f8d5",
   "metadata": {},
   "source": [
    "## Variable's Dynamic Typing"
   ]
  },
  {
   "cell_type": "code",
   "execution_count": 5,
   "id": "64da5b01",
   "metadata": {},
   "outputs": [
    {
     "name": "stdout",
     "output_type": "stream",
     "text": [
      "<class 'int'>\n",
      "<class 'str'>\n"
     ]
    }
   ],
   "source": [
    "# This is an illustrative example for dynamic typing of a Variable.\n",
    "\n",
    "a = 1\n",
    "print(type(a))\n",
    "# Using type(),we print the data type of 'a'.\n",
    "\n",
    "a = \"I.I.T STUDENT COMMUNITY\"\n",
    "print(type(a))\n",
    "# Again we check the data type of 'a'."
   ]
  },
  {
   "cell_type": "markdown",
   "id": "d92671b1",
   "metadata": {},
   "source": [
    "## More on Variables, Operators and Expressions."
   ]
  },
  {
   "cell_type": "code",
   "execution_count": 6,
   "id": "aeb545fc",
   "metadata": {},
   "outputs": [
    {
     "ename": "SyntaxError",
     "evalue": "invalid syntax (Temp/ipykernel_15140/2295333320.py, line 3)",
     "output_type": "error",
     "traceback": [
      "\u001b[1;36m  File \u001b[1;32m\"C:\\Users\\MYPC~1\\AppData\\Local\\Temp/ipykernel_15140/2295333320.py\"\u001b[1;36m, line \u001b[1;32m3\u001b[0m\n\u001b[1;33m    and = 10\u001b[0m\n\u001b[1;37m    ^\u001b[0m\n\u001b[1;31mSyntaxError\u001b[0m\u001b[1;31m:\u001b[0m invalid syntax\n"
     ]
    }
   ],
   "source": [
    "# We check if some variables are accepted by Python having Keywords as their names.\n",
    "\n",
    "and = 10\n",
    "print(and)"
   ]
  },
  {
   "cell_type": "code",
   "execution_count": 8,
   "id": "3befa37c",
   "metadata": {},
   "outputs": [],
   "source": [
    "### We get an error as the word \"and\" is a logical operator and comes under the list of Keywords."
   ]
  },
  {
   "cell_type": "markdown",
   "id": "8c7332de",
   "metadata": {},
   "source": [
    "# Rules of naming a Variable"
   ]
  },
  {
   "cell_type": "markdown",
   "id": "f2d55d70",
   "metadata": {},
   "source": [
    "### Rule 1 : "
   ]
  },
  {
   "cell_type": "code",
   "execution_count": 10,
   "id": "a343cd42",
   "metadata": {},
   "outputs": [
    {
     "data": {
      "text/plain": [
       "int"
      ]
     },
     "execution_count": 10,
     "metadata": {},
     "output_type": "execute_result"
    }
   ],
   "source": [
    "#only alphanumeric characters and underscore can be used in naming a variable.\n",
    "\n",
    "IIT = 1\n",
    "type(IIT)"
   ]
  },
  {
   "cell_type": "markdown",
   "id": "21afcc17",
   "metadata": {},
   "source": [
    "### Rule 2 :"
   ]
  },
  {
   "cell_type": "code",
   "execution_count": 1,
   "id": "64ded05a",
   "metadata": {},
   "outputs": [
    {
     "ename": "SyntaxError",
     "evalue": "invalid decimal literal (Temp/ipykernel_12404/2762244468.py, line 4)",
     "output_type": "error",
     "traceback": [
      "\u001b[1;36m  File \u001b[1;32m\"C:\\Users\\MYPC~1\\AppData\\Local\\Temp/ipykernel_12404/2762244468.py\"\u001b[1;36m, line \u001b[1;32m4\u001b[0m\n\u001b[1;33m    2IIT = 1\u001b[0m\n\u001b[1;37m    ^\u001b[0m\n\u001b[1;31mSyntaxError\u001b[0m\u001b[1;31m:\u001b[0m invalid decimal literal\n"
     ]
    }
   ],
   "source": [
    "# a variable name cannot start with an integer, it throws an error if starts with. \n",
    "# We could name a variable with an underscore or alphabet in the beginning.\n",
    "\n",
    "2IIT = 1"
   ]
  },
  {
   "cell_type": "code",
   "execution_count": 18,
   "id": "f69b9486",
   "metadata": {},
   "outputs": [
    {
     "name": "stdout",
     "output_type": "stream",
     "text": [
      "1\n",
      "5\n"
     ]
    }
   ],
   "source": [
    "# This is an example of a perfect naming for a variable.\n",
    "a1 = IIT\n",
    "_a = 5\n",
    "\n",
    "print(a1)\n",
    "print(_a)"
   ]
  },
  {
   "cell_type": "markdown",
   "id": "183a09a8",
   "metadata": {},
   "source": [
    "### Rule 3 :"
   ]
  },
  {
   "cell_type": "code",
   "execution_count": 24,
   "id": "e0ce5781",
   "metadata": {},
   "outputs": [
    {
     "name": "stdout",
     "output_type": "stream",
     "text": [
      "2\n",
      "1 2\n"
     ]
    }
   ],
   "source": [
    "# Variables in Python are case sensitive.\n",
    "# One example for this could be :-\n",
    "\n",
    "roll = 1\n",
    "Roll = 2\n",
    "print(Roll)\n",
    "\n",
    "# This prints only value of Roll as we had given 'R'oll here. \n",
    "\n",
    "print(roll,Roll)\n",
    "# This would print both roll and Roll as we have mentioned them accordingly."
   ]
  },
  {
   "cell_type": "markdown",
   "id": "9a84d31a",
   "metadata": {},
   "source": [
    "## Multiple Assignment"
   ]
  },
  {
   "cell_type": "code",
   "execution_count": 30,
   "id": "21ac673b",
   "metadata": {},
   "outputs": [
    {
     "name": "stdout",
     "output_type": "stream",
     "text": [
      "1 2 3\n",
      "1\n",
      "2\n",
      "3\n",
      "1 1 1\n",
      "1\n",
      "1\n",
      "1\n"
     ]
    }
   ],
   "source": [
    "# Multiple Assignment is used to assign 2 or more variables in a single line.\n",
    "\n",
    "# Method 1\n",
    "\n",
    "F,U,N = 1,2,3\n",
    "print(F,U,N)\n",
    "print(F)\n",
    "print(U)\n",
    "print(N)\n",
    "\n",
    "# Method 2\n",
    "\n",
    "X=Y=Z=1\n",
    "print(X,Y,Z)\n",
    "print(X)\n",
    "print(Y)\n",
    "print(Z)\n"
   ]
  },
  {
   "cell_type": "markdown",
   "id": "d830b705",
   "metadata": {},
   "source": [
    "### Altering the values"
   ]
  },
  {
   "cell_type": "code",
   "execution_count": 31,
   "id": "0496ddd0",
   "metadata": {},
   "outputs": [
    {
     "name": "stdout",
     "output_type": "stream",
     "text": [
      "1 2\n",
      "2 1\n"
     ]
    }
   ],
   "source": [
    "x,y = 1,2\n",
    "print(x,y)\n",
    "x,y = y,x\n",
    "print(x,y)"
   ]
  },
  {
   "cell_type": "markdown",
   "id": "c00d0172",
   "metadata": {},
   "source": [
    "### Deleting Variables"
   ]
  },
  {
   "cell_type": "code",
   "execution_count": 29,
   "id": "f8ec064c",
   "metadata": {},
   "outputs": [
    {
     "name": "stdout",
     "output_type": "stream",
     "text": [
      "10 20\n"
     ]
    },
    {
     "ename": "NameError",
     "evalue": "name 'x' is not defined",
     "output_type": "error",
     "traceback": [
      "\u001b[1;31m---------------------------------------------------------------------------\u001b[0m",
      "\u001b[1;31mNameError\u001b[0m                                 Traceback (most recent call last)",
      "\u001b[1;32mC:\\Users\\MYPC~1\\AppData\\Local\\Temp/ipykernel_13340/2549072682.py\u001b[0m in \u001b[0;36m<module>\u001b[1;34m\u001b[0m\n\u001b[0;32m      5\u001b[0m \u001b[1;33m\u001b[0m\u001b[0m\n\u001b[0;32m      6\u001b[0m \u001b[1;32mdel\u001b[0m\u001b[1;33m(\u001b[0m\u001b[0mx\u001b[0m\u001b[1;33m)\u001b[0m\u001b[1;33m\u001b[0m\u001b[1;33m\u001b[0m\u001b[0m\n\u001b[1;32m----> 7\u001b[1;33m \u001b[0mprint\u001b[0m\u001b[1;33m(\u001b[0m\u001b[0mx\u001b[0m\u001b[1;33m)\u001b[0m\u001b[1;33m\u001b[0m\u001b[1;33m\u001b[0m\u001b[0m\n\u001b[0m",
      "\u001b[1;31mNameError\u001b[0m: name 'x' is not defined"
     ]
    }
   ],
   "source": [
    "x,y = 10,20\n",
    "print(x,y)\n",
    "\n",
    "# Now we delete x using del() function and are shown an error as the computer cannot locate it after deletion.\n",
    "\n",
    "del(x)\n",
    "print(x)"
   ]
  },
  {
   "cell_type": "markdown",
   "id": "94d223b2",
   "metadata": {},
   "source": [
    "## Shorthand Operators :"
   ]
  },
  {
   "cell_type": "code",
   "execution_count": 36,
   "id": "c972cec2",
   "metadata": {},
   "outputs": [
    {
     "name": "stdout",
     "output_type": "stream",
     "text": [
      "4\n"
     ]
    }
   ],
   "source": [
    "# Shorthand Operators examples and comparision.\n",
    "\n",
    "x = 1\n",
    "x = x + 1\n",
    "x = x + 1\n",
    "x = x + 1\n",
    "print(x)"
   ]
  },
  {
   "cell_type": "code",
   "execution_count": 37,
   "id": "0ce13123",
   "metadata": {},
   "outputs": [
    {
     "name": "stdout",
     "output_type": "stream",
     "text": [
      "4\n"
     ]
    }
   ],
   "source": [
    "# Now we use Shorthand Operators and check whether the result is same ?\n",
    "\n",
    "x = 1\n",
    "x += 1\n",
    "x += 1\n",
    "x += 1\n",
    "print(x)\n"
   ]
  },
  {
   "cell_type": "code",
   "execution_count": 3,
   "id": "3d1be4d3",
   "metadata": {},
   "outputs": [],
   "source": [
    "# To our surprise, the result remains same and this is the use of Shorthand Operators.\n",
    "# Helps in maintaining less code and saves time as well."
   ]
  },
  {
   "cell_type": "markdown",
   "id": "ad0a569f",
   "metadata": {},
   "source": [
    " ## NOTE :- SHORTHAND OPERATORS ARE APPLICABLE NOT ONLY TO + , BUT TO ALL MATHEMATICAL OPERATORS."
   ]
  },
  {
   "cell_type": "markdown",
   "id": "43076e9d",
   "metadata": {},
   "source": [
    "## 'in' operator :"
   ]
  },
  {
   "cell_type": "code",
   "execution_count": 2,
   "id": "79e5dce3",
   "metadata": {},
   "outputs": [
    {
     "name": "stdout",
     "output_type": "stream",
     "text": [
      "True\n",
      "False\n"
     ]
    }
   ],
   "source": [
    "# the 'in' operator checks if a particular value is present in something which is predefined relatively.\n",
    "# Returns True if it exists and False if it doesn't.\n",
    "# An example to illustrate this would be :-\n",
    "\n",
    "print('alpha' in 'A variable name can contain only alpha-numeric characters and underscores')\n",
    "\n",
    "print('alpha' in 'A variable name can start only with either an letter or an underscore')\n",
    "\n",
    "# Let's execute these lines to check the respective Outputs.\n",
    "# Make sure that the Output would be either a True or a False ONLY."
   ]
  },
  {
   "cell_type": "markdown",
   "id": "c2df92c3",
   "metadata": {},
   "source": [
    "## Chaining Operators :"
   ]
  },
  {
   "cell_type": "code",
   "execution_count": null,
   "id": "02327cf1",
   "metadata": {},
   "outputs": [],
   "source": [
    "# When we use multiple relational operators in a single statement, then it is called chaining operators."
   ]
  },
  {
   "cell_type": "code",
   "execution_count": 4,
   "id": "5566dc54",
   "metadata": {},
   "outputs": [
    {
     "name": "stdout",
     "output_type": "stream",
     "text": [
      "True\n",
      "False\n",
      "True\n",
      "True\n",
      "True\n"
     ]
    }
   ],
   "source": [
    "# Returns True or False accordingly as output\n",
    "# an example would be :-\n",
    "\n",
    "x = 5\n",
    "print(1 < x < 10)\n",
    "print(10 < x < 20)\n",
    "print(x < 10 < x*10 < 100)\n",
    "print(10 > x <= 9)\n",
    "print(5 == x > 4)"
   ]
  },
  {
   "cell_type": "markdown",
   "id": "3896f07f",
   "metadata": {},
   "source": [
    "# Escape Characters :"
   ]
  },
  {
   "cell_type": "code",
   "execution_count": 6,
   "id": "b76c774b",
   "metadata": {},
   "outputs": [
    {
     "ename": "SyntaxError",
     "evalue": "unterminated string literal (detected at line 4) (Temp/ipykernel_12768/2557194222.py, line 4)",
     "output_type": "error",
     "traceback": [
      "\u001b[1;36m  File \u001b[1;32m\"C:\\Users\\MYPC~1\\AppData\\Local\\Temp/ipykernel_12768/2557194222.py\"\u001b[1;36m, line \u001b[1;32m4\u001b[0m\n\u001b[1;33m    print('I'm going to clear Qualifier Exam.')\u001b[0m\n\u001b[1;37m                                             ^\u001b[0m\n\u001b[1;31mSyntaxError\u001b[0m\u001b[1;31m:\u001b[0m unterminated string literal (detected at line 4)\n"
     ]
    }
   ],
   "source": [
    "# Used when there's a single or double quote in the string that we want to print.\n",
    "# An example would be :-\n",
    "\n",
    "print('I'm going to clear Qualifier Exam.')\n",
    "# the above would give us an error. This is the point at which Escape Character has its role."
   ]
  },
  {
   "cell_type": "code",
   "execution_count": 7,
   "id": "fb94ba4e",
   "metadata": {},
   "outputs": [
    {
     "name": "stdout",
     "output_type": "stream",
     "text": [
      "I'm going to clear Qualifier Exam.\n"
     ]
    }
   ],
   "source": [
    "print('I\\'m going to clear Qualifier Exam.')\n",
    "# this will result in the output which user wants to print."
   ]
  },
  {
   "cell_type": "code",
   "execution_count": 12,
   "id": "1fe1963c",
   "metadata": {},
   "outputs": [
    {
     "name": "stdout",
     "output_type": "stream",
     "text": [
      "We're from \"IIT\" Madras\n"
     ]
    }
   ],
   "source": [
    "# Another example :-\n",
    "\n",
    "print(\"We're from \\\"IIT\\\" Madras\")"
   ]
  },
  {
   "cell_type": "code",
   "execution_count": 15,
   "id": "081c96a1",
   "metadata": {},
   "outputs": [
    {
     "name": "stdout",
     "output_type": "stream",
     "text": [
      "Hi! What's your progress?\n",
      "Hi!\t What's your progress?\n"
     ]
    }
   ],
   "source": [
    "# '\\t' is used for printing more spaces.\n",
    "# Below is an example for its execution.\n",
    "print(\"Hi! What's your progress?\")\n",
    "print(\"Hi!\\t What's your progress?\")"
   ]
  },
  {
   "cell_type": "code",
   "execution_count": 17,
   "id": "757f569b",
   "metadata": {},
   "outputs": [
    {
     "name": "stdout",
     "output_type": "stream",
     "text": [
      "Hi! How are you feeling?\n",
      "Hi!\n",
      " How are you feeling?\n"
     ]
    }
   ],
   "source": [
    "# '\\n' is used for printing in a new line.\n",
    "# Below is an example.\n",
    "print(\"Hi! How are you feeling?\")\n",
    "print(\"Hi!\\n How are you feeling?\")"
   ]
  },
  {
   "cell_type": "markdown",
   "id": "2c2c86b1",
   "metadata": {},
   "source": [
    "## All 3 types of quotes in a single example."
   ]
  },
  {
   "cell_type": "code",
   "execution_count": 18,
   "id": "34c4f34e",
   "metadata": {},
   "outputs": [
    {
     "name": "stdout",
     "output_type": "stream",
     "text": [
      "This is a String\n",
      "This is also a String\n",
      "first line\n",
      "second line\n",
      "third line\n",
      "fourth line\n",
      "fifth line\n"
     ]
    }
   ],
   "source": [
    "# We know about single and double quotes. The Triple quotes are used to store multiline strings.\n",
    "\n",
    "x = 'This is a String'\n",
    "y = \"This is also a String\"\n",
    "z = '''first line\n",
    "second line\n",
    "third line\n",
    "fourth line\n",
    "fifth line'''\n",
    "\n",
    "print(x)\n",
    "print(y)\n",
    "print(z)\n",
    "\n",
    "# Let's check the output !!"
   ]
  },
  {
   "cell_type": "markdown",
   "id": "a7477e11",
   "metadata": {},
   "source": [
    "# String Methods"
   ]
  },
  {
   "cell_type": "code",
   "execution_count": 3,
   "id": "5255dfc0",
   "metadata": {},
   "outputs": [],
   "source": [
    "# there are 14 string methods in Python.\n",
    "# Let's see example of each of them with their definition as well."
   ]
  },
  {
   "cell_type": "code",
   "execution_count": 1,
   "id": "6d7e2994",
   "metadata": {},
   "outputs": [
    {
     "data": {
      "text/plain": [
       "'iit madras'"
      ]
     },
     "execution_count": 1,
     "metadata": {},
     "output_type": "execute_result"
    }
   ],
   "source": [
    "# lower() method - changes the string into lower or small alphabets.\n",
    "\n",
    "x = \"IIT MADRAS\"\n",
    "x.lower()"
   ]
  },
  {
   "cell_type": "code",
   "execution_count": 2,
   "id": "8c7ea5bc",
   "metadata": {},
   "outputs": [
    {
     "data": {
      "text/plain": [
       "'QUALIFIER'"
      ]
     },
     "execution_count": 2,
     "metadata": {},
     "output_type": "execute_result"
    }
   ],
   "source": [
    "# upper() method - changes the string characters into capital letters.\n",
    "\n",
    "x = \"qualifier\"\n",
    "x.upper()"
   ]
  },
  {
   "cell_type": "code",
   "execution_count": 3,
   "id": "38315099",
   "metadata": {},
   "outputs": [
    {
     "data": {
      "text/plain": [
       "'Success'"
      ]
     },
     "execution_count": 3,
     "metadata": {},
     "output_type": "execute_result"
    }
   ],
   "source": [
    "# capitalize() method - Capitalizes the beginning letter of the string.\n",
    "\n",
    "x = \"success\"\n",
    "x.capitalize()"
   ]
  },
  {
   "cell_type": "code",
   "execution_count": 5,
   "id": "dde7e682",
   "metadata": {},
   "outputs": [
    {
     "data": {
      "text/plain": [
       "'I Will Qualify With High Score'"
      ]
     },
     "execution_count": 5,
     "metadata": {},
     "output_type": "execute_result"
    }
   ],
   "source": [
    "# title() method - Capitalizes the starting character of each word.\n",
    "\n",
    "x = \"i will qualify with high score\"\n",
    "x.title()"
   ]
  },
  {
   "cell_type": "code",
   "execution_count": 6,
   "id": "8eef0a7a",
   "metadata": {},
   "outputs": [
    {
     "data": {
      "text/plain": [
       "'CONGRATULATIONS to YOU'"
      ]
     },
     "execution_count": 6,
     "metadata": {},
     "output_type": "execute_result"
    }
   ],
   "source": [
    "# swapcase() method - swaps the capitals with lower alphabets in a string.\n",
    "\n",
    "x = \"congratulations TO you\"\n",
    "x.swapcase()"
   ]
  },
  {
   "cell_type": "code",
   "execution_count": 8,
   "id": "adbada5e",
   "metadata": {},
   "outputs": [
    {
     "data": {
      "text/plain": [
       "True"
      ]
     },
     "execution_count": 8,
     "metadata": {},
     "output_type": "execute_result"
    }
   ],
   "source": [
    "# isdigit() method - checks if all the elements in a string are digits and returns True or False based on the check.\n",
    "\n",
    "x = \"12345\"\n",
    "x.isdigit()"
   ]
  },
  {
   "cell_type": "code",
   "execution_count": 11,
   "id": "ae96954a",
   "metadata": {},
   "outputs": [
    {
     "data": {
      "text/plain": [
       "True"
      ]
     },
     "execution_count": 11,
     "metadata": {},
     "output_type": "execute_result"
    }
   ],
   "source": [
    "# isalpha() method - checks if all characters are alphabets in a string and returns True or False basing on the check.\n",
    "# spaces should not be there in the string even if all the characters are alphabets.\n",
    "\n",
    "x = \"AlltheBest\"\n",
    "x.isalpha()"
   ]
  },
  {
   "cell_type": "code",
   "execution_count": 14,
   "id": "2db03930",
   "metadata": {},
   "outputs": [
    {
     "data": {
      "text/plain": [
       "True"
      ]
     },
     "execution_count": 14,
     "metadata": {},
     "output_type": "execute_result"
    }
   ],
   "source": [
    "# isalnum() method - checks if all the characters are alpha-numeric and returns True or False basing on the check.\n",
    "# spaces should not be there even if all are alphanumeric in order to get a True as output.\n",
    "\n",
    "x = \"IIT123\"\n",
    "x.isalnum()"
   ]
  },
  {
   "cell_type": "code",
   "execution_count": 15,
   "id": "f31a9af3",
   "metadata": {},
   "outputs": [
    {
     "data": {
      "text/plain": [
       "True"
      ]
     },
     "execution_count": 15,
     "metadata": {},
     "output_type": "execute_result"
    }
   ],
   "source": [
    "# islower() method - checks if all the characters are in lowercase.\n",
    "\n",
    "x = \"this will result in a true\"\n",
    "x.islower()"
   ]
  },
  {
   "cell_type": "code",
   "execution_count": 16,
   "id": "c9216a24",
   "metadata": {},
   "outputs": [
    {
     "data": {
      "text/plain": [
       "True"
      ]
     },
     "execution_count": 16,
     "metadata": {},
     "output_type": "execute_result"
    }
   ],
   "source": [
    "# isupper() method - checks if all the characters are in uppercase.\n",
    "\n",
    "x = \" IIT IS A PRESTIGIOUS INSTITUTE.\"\n",
    "x.isupper()"
   ]
  },
  {
   "cell_type": "code",
   "execution_count": 17,
   "id": "d29f0385",
   "metadata": {},
   "outputs": [
    {
     "data": {
      "text/plain": [
       "True"
      ]
     },
     "execution_count": 17,
     "metadata": {},
     "output_type": "execute_result"
    }
   ],
   "source": [
    "# istitle() method - checks if the rule of a title is followed or not.\n",
    "\n",
    "x = \"I Am Feeling Better Now.\"\n",
    "x.istitle()"
   ]
  },
  {
   "cell_type": "code",
   "execution_count": 20,
   "id": "44bae1aa",
   "metadata": {},
   "outputs": [
    {
     "data": {
      "text/plain": [
       "'PYTHON'"
      ]
     },
     "execution_count": 20,
     "metadata": {},
     "output_type": "execute_result"
    }
   ],
   "source": [
    "# strip() method - returns a trimmed version of string.\n",
    "# we need to give the character inside braces which we need to remove to make it short.\n",
    "\n",
    "x = \"---PYTHON---\"\n",
    "x.strip('-')"
   ]
  },
  {
   "cell_type": "code",
   "execution_count": 21,
   "id": "de34afb7",
   "metadata": {},
   "outputs": [
    {
     "data": {
      "text/plain": [
       "'PYTHON---'"
      ]
     },
     "execution_count": 21,
     "metadata": {},
     "output_type": "execute_result"
    }
   ],
   "source": [
    "# lstrip() method - returns a left trim version of the string.\n",
    "# we need to give the character inside braces.\n",
    "\n",
    "x = \"---PYTHON---\"\n",
    "x.lstrip('-')"
   ]
  },
  {
   "cell_type": "code",
   "execution_count": 22,
   "id": "ed222ba0",
   "metadata": {},
   "outputs": [
    {
     "data": {
      "text/plain": [
       "'---PYTHON'"
      ]
     },
     "execution_count": 22,
     "metadata": {},
     "output_type": "execute_result"
    }
   ],
   "source": [
    "# rstrip() method - returns a right trim version of the string.\n",
    "# we need to give the character inside braces.\n",
    "\n",
    "x = \"---PYTHON---\"\n",
    "x.rstrip('-')"
   ]
  },
  {
   "cell_type": "code",
   "execution_count": 23,
   "id": "3e9fe127",
   "metadata": {},
   "outputs": [
    {
     "data": {
      "text/plain": [
       "True"
      ]
     },
     "execution_count": 23,
     "metadata": {},
     "output_type": "execute_result"
    }
   ],
   "source": [
    "# startswith() method - checks if the string starts with the given character or not.\n",
    "# Returns True or False based on the check.\n",
    "\n",
    "x = \"Python\"\n",
    "x.startswith(\"P\")"
   ]
  },
  {
   "cell_type": "code",
   "execution_count": 24,
   "id": "b588c2ab",
   "metadata": {},
   "outputs": [
    {
     "data": {
      "text/plain": [
       "True"
      ]
     },
     "execution_count": 24,
     "metadata": {},
     "output_type": "execute_result"
    }
   ],
   "source": [
    "# endswith() method - checks if the string ends with the given character or not.\n",
    "# Returns True or False based on the check.\n",
    "\n",
    "x = \"Python\"\n",
    "x.endswith(\"n\")"
   ]
  },
  {
   "cell_type": "code",
   "execution_count": 25,
   "id": "c7f4cac4",
   "metadata": {},
   "outputs": [
    {
     "data": {
      "text/plain": [
       "2"
      ]
     },
     "execution_count": 25,
     "metadata": {},
     "output_type": "execute_result"
    }
   ],
   "source": [
    "# count() method - checks the number of times that a character repeats in a string.\n",
    "# gives an integer as output.\n",
    "\n",
    "x = \"1223334444\"\n",
    "x.count(\"2\")"
   ]
  },
  {
   "cell_type": "code",
   "execution_count": 27,
   "id": "b5ba7241",
   "metadata": {},
   "outputs": [
    {
     "data": {
      "text/plain": [
       "3"
      ]
     },
     "execution_count": 27,
     "metadata": {},
     "output_type": "execute_result"
    }
   ],
   "source": [
    "# index() method - returns the index number of the character at which it is present in the string.\n",
    "# returns an integer as output.\n",
    "\n",
    "x = \"python\"\n",
    "x.index(\"h\")"
   ]
  },
  {
   "cell_type": "code",
   "execution_count": 28,
   "id": "50dd2846",
   "metadata": {},
   "outputs": [
    {
     "data": {
      "text/plain": [
       "'String'"
      ]
     },
     "execution_count": 28,
     "metadata": {},
     "output_type": "execute_result"
    }
   ],
   "source": [
    "# replace() method - replaces the character that we wanted to, with the desired one.\n",
    "\n",
    "x = \"string\"\n",
    "x.replace(\"s\",\"S\")"
   ]
  },
  {
   "cell_type": "markdown",
   "id": "ca8f45cc",
   "metadata": {},
   "source": [
    "#                          If-Else loop"
   ]
  },
  {
   "cell_type": "code",
   "execution_count": 1,
   "id": "dc742c4c",
   "metadata": {},
   "outputs": [
    {
     "name": "stdout",
     "output_type": "stream",
     "text": [
      "22\n",
      "Elgible\n"
     ]
    }
   ],
   "source": [
    "# if-else loop is used to print statements based on some defined criteria after verifying the given condition with criteria.\n",
    "# The below would work like an example for your understanding :\n",
    "\n",
    "age = int(input())\n",
    "# we implement the if-else loop here to check for the voting eligibilty\n",
    "\n",
    "if age >= 18:\n",
    "    print(\"Elgible\")\n",
    "else:\n",
    "    print(\"Not Eligible\")\n",
    "    \n",
    "# the output depends on the input we give."
   ]
  },
  {
   "cell_type": "markdown",
   "id": "a11c49a1",
   "metadata": {},
   "source": [
    "# If-Else elif loop ( sub loop )"
   ]
  },
  {
   "cell_type": "code",
   "execution_count": 2,
   "id": "ac7c85cd",
   "metadata": {},
   "outputs": [
    {
     "name": "stdout",
     "output_type": "stream",
     "text": [
      "3 - Got a true expression value\n",
      "100\n",
      "Good bye!\n"
     ]
    }
   ],
   "source": [
    "# The elif statement allows you to check multiple expressions for TRUE and execute a block of code as soon as one of the, \n",
    "# conditions evaluates to TRUE.\n",
    "\n",
    "var = 100\n",
    "if var == 200:\n",
    "   print(\"1 - Got a true expression value\")\n",
    "   print(var)\n",
    "elif var == 150:\n",
    "   print(\"2 - Got a true expression value\")\n",
    "   print(var)\n",
    "elif var == 100:\n",
    "   print(\"3 - Got a true expression value\")\n",
    "   print(var)\n",
    "else:\n",
    "   print(\"4 - Got a false expression value\")\n",
    "   print(var)\n",
    "\n",
    "print(\"Good bye!\")"
   ]
  },
  {
   "cell_type": "markdown",
   "id": "c0a05fa1",
   "metadata": {},
   "source": [
    "# Libraries and Importing them into Code."
   ]
  },
  {
   "cell_type": "markdown",
   "id": "3ef3387d",
   "metadata": {},
   "source": [
    "## Math Library Example"
   ]
  },
  {
   "cell_type": "code",
   "execution_count": 12,
   "id": "ab6bfca6",
   "metadata": {},
   "outputs": [
    {
     "name": "stdout",
     "output_type": "stream",
     "text": [
      "5.0\n",
      "2\n",
      "16.0\n"
     ]
    }
   ],
   "source": [
    "# A library is a collection of existing functions that can be used in your code.\n",
    "# We use libraries in a code with the help of a keyword \"import\".\n",
    "# The below would make you understand in importing libraries and using them accordingly.\n",
    "\n",
    "import math\n",
    "# we've imported a library named math in the previous line.\n",
    "\n",
    "print(math.sqrt(25))\n",
    "print(math.factorial(2))\n",
    "print(math.pow(4,2))"
   ]
  },
  {
   "cell_type": "markdown",
   "id": "befe7185",
   "metadata": {},
   "source": [
    "### Random Library Example"
   ]
  },
  {
   "cell_type": "code",
   "execution_count": 11,
   "id": "e559545f",
   "metadata": {},
   "outputs": [
    {
     "name": "stdout",
     "output_type": "stream",
     "text": [
      "Heads\n"
     ]
    }
   ],
   "source": [
    "# Random library can be used in simulating some uncertain conditions like coin toss, drawing a card from a pile etc.\n",
    "# The below example illustrates the case of a coin toss.\n",
    "\n",
    "import random\n",
    "a = random.random()\n",
    "\n",
    "if a < 0.5:\n",
    "    print(\"Heads\")\n",
    "else:\n",
    "    print(\"Tails\")"
   ]
  },
  {
   "cell_type": "markdown",
   "id": "5c0abdad",
   "metadata": {},
   "source": [
    "## Calendar library Example"
   ]
  },
  {
   "cell_type": "code",
   "execution_count": 14,
   "id": "bcaad29d",
   "metadata": {},
   "outputs": [
    {
     "data": {
      "text/plain": [
       "'   December 2021\\nMo Tu We Th Fr Sa Su\\n       1  2  3  4  5\\n 6  7  8  9 10 11 12\\n13 14 15 16 17 18 19\\n20 21 22 23 24 25 26\\n27 28 29 30 31\\n'"
      ]
     },
     "execution_count": 14,
     "metadata": {},
     "output_type": "execute_result"
    }
   ],
   "source": [
    "# Calendar library is useful in printing the calendar of a particular month of an year and also in printing the calendar of an year.\n",
    "# its syntax goes to be like:    calendar.month(year, month number)\n",
    "# An example would be :-\n",
    "\n",
    "import calendar\n",
    "\n",
    "calendar.month(2021,12)\n",
    "# this would print the calendar of December month of 2021 as an output."
   ]
  },
  {
   "cell_type": "code",
   "execution_count": 15,
   "id": "8e1f5133",
   "metadata": {},
   "outputs": [
    {
     "data": {
      "text/plain": [
       "'                                  2021\\n\\n      January                   February                   March\\nMo Tu We Th Fr Sa Su      Mo Tu We Th Fr Sa Su      Mo Tu We Th Fr Sa Su\\n             1  2  3       1  2  3  4  5  6  7       1  2  3  4  5  6  7\\n 4  5  6  7  8  9 10       8  9 10 11 12 13 14       8  9 10 11 12 13 14\\n11 12 13 14 15 16 17      15 16 17 18 19 20 21      15 16 17 18 19 20 21\\n18 19 20 21 22 23 24      22 23 24 25 26 27 28      22 23 24 25 26 27 28\\n25 26 27 28 29 30 31                                29 30 31\\n\\n       April                      May                       June\\nMo Tu We Th Fr Sa Su      Mo Tu We Th Fr Sa Su      Mo Tu We Th Fr Sa Su\\n          1  2  3  4                      1  2          1  2  3  4  5  6\\n 5  6  7  8  9 10 11       3  4  5  6  7  8  9       7  8  9 10 11 12 13\\n12 13 14 15 16 17 18      10 11 12 13 14 15 16      14 15 16 17 18 19 20\\n19 20 21 22 23 24 25      17 18 19 20 21 22 23      21 22 23 24 25 26 27\\n26 27 28 29 30            24 25 26 27 28 29 30      28 29 30\\n                          31\\n\\n        July                     August                  September\\nMo Tu We Th Fr Sa Su      Mo Tu We Th Fr Sa Su      Mo Tu We Th Fr Sa Su\\n          1  2  3  4                         1             1  2  3  4  5\\n 5  6  7  8  9 10 11       2  3  4  5  6  7  8       6  7  8  9 10 11 12\\n12 13 14 15 16 17 18       9 10 11 12 13 14 15      13 14 15 16 17 18 19\\n19 20 21 22 23 24 25      16 17 18 19 20 21 22      20 21 22 23 24 25 26\\n26 27 28 29 30 31         23 24 25 26 27 28 29      27 28 29 30\\n                          30 31\\n\\n      October                   November                  December\\nMo Tu We Th Fr Sa Su      Mo Tu We Th Fr Sa Su      Mo Tu We Th Fr Sa Su\\n             1  2  3       1  2  3  4  5  6  7             1  2  3  4  5\\n 4  5  6  7  8  9 10       8  9 10 11 12 13 14       6  7  8  9 10 11 12\\n11 12 13 14 15 16 17      15 16 17 18 19 20 21      13 14 15 16 17 18 19\\n18 19 20 21 22 23 24      22 23 24 25 26 27 28      20 21 22 23 24 25 26\\n25 26 27 28 29 30 31      29 30                     27 28 29 30 31\\n'"
      ]
     },
     "execution_count": 15,
     "metadata": {},
     "output_type": "execute_result"
    }
   ],
   "source": [
    "# Example for printing the calendar of an year that we want to.\n",
    "\n",
    "import calendar\n",
    "\n",
    "calendar.calendar(2021)"
   ]
  }
 ],
 "metadata": {
  "kernelspec": {
   "display_name": "Python 3 (ipykernel)",
   "language": "python",
   "name": "python3"
  },
  "language_info": {
   "codemirror_mode": {
    "name": "ipython",
    "version": 3
   },
   "file_extension": ".py",
   "mimetype": "text/x-python",
   "name": "python",
   "nbconvert_exporter": "python",
   "pygments_lexer": "ipython3",
   "version": "3.10.0"
  }
 },
 "nbformat": 4,
 "nbformat_minor": 5
}
